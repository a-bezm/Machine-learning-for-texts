{
  "cells": [
    {
      "cell_type": "markdown",
      "metadata": {
        "id": "I8cqmEEXbcEd"
      },
      "source": [
        "# Проект для «Викишоп»"
      ]
    },
    {
      "cell_type": "markdown",
      "metadata": {
        "id": "7wMxKZ8CbcEg"
      },
      "source": [
        "Интернет-магазин «Викишоп» запускает новый сервис. Теперь пользователи могут редактировать и дополнять описания товаров, как в вики-сообществах. То есть клиенты предлагают свои правки и комментируют изменения других. Магазину нужен инструмент, который будет искать токсичные комментарии и отправлять их на модерацию.\n",
        "\n",
        "Обучите модель классифицировать комментарии на позитивные и негативные. В вашем распоряжении набор данных с разметкой о токсичности правок.\n",
        "\n",
        "Постройте модель со значением метрики качества *F1* не меньше 0.75.\n",
        "\n",
        "\n",
        "**Описание данных**\n",
        "\n",
        "Данные находятся в файле `toxic_comments.csv`. Столбец *text* в нём содержит текст комментария, а *toxic* — целевой признак."
      ]
    },
    {
      "cell_type": "markdown",
      "metadata": {
        "id": "hpo6apZ1bcEm"
      },
      "source": [
        "## Подготовка"
      ]
    },
    {
      "cell_type": "code",
      "execution_count": null,
      "metadata": {
        "id": "QHIJ2jQVbcEq"
      },
      "outputs": [],
      "source": [
        "import pandas as pd\n",
        "import matplotlib as plt\n",
        "import warnings\n",
        "import nltk\n",
        "import re\n",
        "import spacy\n",
        "\n",
        "from sklearn.model_selection import GridSearchCV\n",
        "from sklearn.model_selection import cross_val_score\n",
        "from sklearn.feature_extraction.text import CountVectorizer\n",
        "from sklearn.feature_extraction.text import TfidfVectorizer\n",
        "from sklearn.model_selection import train_test_split\n",
        "from sklearn.linear_model import LogisticRegression\n",
        "from sklearn.metrics import f1_score\n",
        "from sklearn.ensemble import RandomForestClassifier\n",
        "from sklearn.tree import DecisionTreeClassifier\n",
        "\n",
        "from lightgbm import LGBMClassifier\n",
        "\n",
        "from catboost import CatBoostClassifier\n",
        "\n",
        "from random import shuffle\n",
        "\n",
        "from nltk.stem import WordNetLemmatizer\n",
        "\n",
        "from tqdm.notebook import tqdm"
      ]
    },
    {
      "cell_type": "code",
      "execution_count": null,
      "metadata": {
        "id": "7DZzhEF1bcE6"
      },
      "outputs": [],
      "source": [
        "warnings.filterwarnings(\"ignore\")"
      ]
    },
    {
      "cell_type": "code",
      "execution_count": null,
      "metadata": {
        "id": "-qVbjSAobcE8"
      },
      "outputs": [],
      "source": [
        "df = pd.read_csv('.csv')"
      ]
    },
    {
      "cell_type": "code",
      "execution_count": null,
      "metadata": {
        "scrolled": true,
        "id": "qr8dahb2bcE_",
        "outputId": "11d635c4-45a9-4404-abb6-c73d98f1bf00"
      },
      "outputs": [
        {
          "data": {
            "text/plain": [
              "(159292, 3)"
            ]
          },
          "execution_count": 4,
          "metadata": {},
          "output_type": "execute_result"
        }
      ],
      "source": [
        "df.shape"
      ]
    },
    {
      "cell_type": "code",
      "execution_count": null,
      "metadata": {
        "id": "wNcXR3H4bcFG",
        "outputId": "0ebefc0c-a6eb-45a0-90e7-a3ad82af5c21"
      },
      "outputs": [
        {
          "name": "stdout",
          "output_type": "stream",
          "text": [
            "<class 'pandas.core.frame.DataFrame'>\n",
            "RangeIndex: 159292 entries, 0 to 159291\n",
            "Data columns (total 3 columns):\n",
            " #   Column      Non-Null Count   Dtype \n",
            "---  ------      --------------   ----- \n",
            " 0   Unnamed: 0  159292 non-null  int64 \n",
            " 1   text        159292 non-null  object\n",
            " 2   toxic       159292 non-null  int64 \n",
            "dtypes: int64(2), object(1)\n",
            "memory usage: 3.6+ MB\n"
          ]
        }
      ],
      "source": [
        "df.info()"
      ]
    },
    {
      "cell_type": "code",
      "execution_count": null,
      "metadata": {
        "scrolled": true,
        "id": "mnU3YJ3ibcFJ",
        "outputId": "29789cef-c72a-4281-a3da-219c0e3e3877"
      },
      "outputs": [
        {
          "data": {
            "text/html": [
              "<div>\n",
              "<style scoped>\n",
              "    .dataframe tbody tr th:only-of-type {\n",
              "        vertical-align: middle;\n",
              "    }\n",
              "\n",
              "    .dataframe tbody tr th {\n",
              "        vertical-align: top;\n",
              "    }\n",
              "\n",
              "    .dataframe thead th {\n",
              "        text-align: right;\n",
              "    }\n",
              "</style>\n",
              "<table border=\"1\" class=\"dataframe\">\n",
              "  <thead>\n",
              "    <tr style=\"text-align: right;\">\n",
              "      <th></th>\n",
              "      <th>Unnamed: 0</th>\n",
              "      <th>text</th>\n",
              "      <th>toxic</th>\n",
              "    </tr>\n",
              "  </thead>\n",
              "  <tbody>\n",
              "    <tr>\n",
              "      <th>0</th>\n",
              "      <td>0</td>\n",
              "      <td>Explanation\\nWhy the edits made under my usern...</td>\n",
              "      <td>0</td>\n",
              "    </tr>\n",
              "    <tr>\n",
              "      <th>1</th>\n",
              "      <td>1</td>\n",
              "      <td>D'aww! He matches this background colour I'm s...</td>\n",
              "      <td>0</td>\n",
              "    </tr>\n",
              "    <tr>\n",
              "      <th>2</th>\n",
              "      <td>2</td>\n",
              "      <td>Hey man, I'm really not trying to edit war. It...</td>\n",
              "      <td>0</td>\n",
              "    </tr>\n",
              "    <tr>\n",
              "      <th>3</th>\n",
              "      <td>3</td>\n",
              "      <td>\"\\nMore\\nI can't make any real suggestions on ...</td>\n",
              "      <td>0</td>\n",
              "    </tr>\n",
              "    <tr>\n",
              "      <th>4</th>\n",
              "      <td>4</td>\n",
              "      <td>You, sir, are my hero. Any chance you remember...</td>\n",
              "      <td>0</td>\n",
              "    </tr>\n",
              "  </tbody>\n",
              "</table>\n",
              "</div>"
            ],
            "text/plain": [
              "   Unnamed: 0                                               text  toxic\n",
              "0           0  Explanation\\nWhy the edits made under my usern...      0\n",
              "1           1  D'aww! He matches this background colour I'm s...      0\n",
              "2           2  Hey man, I'm really not trying to edit war. It...      0\n",
              "3           3  \"\\nMore\\nI can't make any real suggestions on ...      0\n",
              "4           4  You, sir, are my hero. Any chance you remember...      0"
            ]
          },
          "execution_count": 6,
          "metadata": {},
          "output_type": "execute_result"
        }
      ],
      "source": [
        "df.head()"
      ]
    },
    {
      "cell_type": "code",
      "execution_count": null,
      "metadata": {
        "scrolled": true,
        "id": "X33Qzj8pbcFK",
        "outputId": "21528864-77b3-4135-aa68-ca4bc2a10290"
      },
      "outputs": [
        {
          "data": {
            "text/html": [
              "<div>\n",
              "<style scoped>\n",
              "    .dataframe tbody tr th:only-of-type {\n",
              "        vertical-align: middle;\n",
              "    }\n",
              "\n",
              "    .dataframe tbody tr th {\n",
              "        vertical-align: top;\n",
              "    }\n",
              "\n",
              "    .dataframe thead th {\n",
              "        text-align: right;\n",
              "    }\n",
              "</style>\n",
              "<table border=\"1\" class=\"dataframe\">\n",
              "  <thead>\n",
              "    <tr style=\"text-align: right;\">\n",
              "      <th></th>\n",
              "      <th>Unnamed: 0</th>\n",
              "      <th>text</th>\n",
              "      <th>toxic</th>\n",
              "    </tr>\n",
              "  </thead>\n",
              "  <tbody>\n",
              "    <tr>\n",
              "      <th>159287</th>\n",
              "      <td>159446</td>\n",
              "      <td>\":::::And for the second time of asking, when ...</td>\n",
              "      <td>0</td>\n",
              "    </tr>\n",
              "    <tr>\n",
              "      <th>159288</th>\n",
              "      <td>159447</td>\n",
              "      <td>You should be ashamed of yourself \\n\\nThat is ...</td>\n",
              "      <td>0</td>\n",
              "    </tr>\n",
              "    <tr>\n",
              "      <th>159289</th>\n",
              "      <td>159448</td>\n",
              "      <td>Spitzer \\n\\nUmm, theres no actual article for ...</td>\n",
              "      <td>0</td>\n",
              "    </tr>\n",
              "    <tr>\n",
              "      <th>159290</th>\n",
              "      <td>159449</td>\n",
              "      <td>And it looks like it was actually you who put ...</td>\n",
              "      <td>0</td>\n",
              "    </tr>\n",
              "    <tr>\n",
              "      <th>159291</th>\n",
              "      <td>159450</td>\n",
              "      <td>\"\\nAnd ... I really don't think you understand...</td>\n",
              "      <td>0</td>\n",
              "    </tr>\n",
              "  </tbody>\n",
              "</table>\n",
              "</div>"
            ],
            "text/plain": [
              "        Unnamed: 0                                               text  toxic\n",
              "159287      159446  \":::::And for the second time of asking, when ...      0\n",
              "159288      159447  You should be ashamed of yourself \\n\\nThat is ...      0\n",
              "159289      159448  Spitzer \\n\\nUmm, theres no actual article for ...      0\n",
              "159290      159449  And it looks like it was actually you who put ...      0\n",
              "159291      159450  \"\\nAnd ... I really don't think you understand...      0"
            ]
          },
          "execution_count": 7,
          "metadata": {},
          "output_type": "execute_result"
        }
      ],
      "source": [
        "df.tail()"
      ]
    },
    {
      "cell_type": "code",
      "execution_count": null,
      "metadata": {
        "scrolled": true,
        "id": "Ry7pa3XrbcFM",
        "outputId": "2811dea9-fd79-4ce1-b26c-0f2cc0be3dce"
      },
      "outputs": [
        {
          "data": {
            "text/html": [
              "<div>\n",
              "<style scoped>\n",
              "    .dataframe tbody tr th:only-of-type {\n",
              "        vertical-align: middle;\n",
              "    }\n",
              "\n",
              "    .dataframe tbody tr th {\n",
              "        vertical-align: top;\n",
              "    }\n",
              "\n",
              "    .dataframe thead th {\n",
              "        text-align: right;\n",
              "    }\n",
              "</style>\n",
              "<table border=\"1\" class=\"dataframe\">\n",
              "  <thead>\n",
              "    <tr style=\"text-align: right;\">\n",
              "      <th></th>\n",
              "      <th>Unnamed: 0</th>\n",
              "      <th>toxic</th>\n",
              "    </tr>\n",
              "  </thead>\n",
              "  <tbody>\n",
              "    <tr>\n",
              "      <th>count</th>\n",
              "      <td>159292.000000</td>\n",
              "      <td>159292.000000</td>\n",
              "    </tr>\n",
              "    <tr>\n",
              "      <th>mean</th>\n",
              "      <td>79725.697242</td>\n",
              "      <td>0.101612</td>\n",
              "    </tr>\n",
              "    <tr>\n",
              "      <th>std</th>\n",
              "      <td>46028.837471</td>\n",
              "      <td>0.302139</td>\n",
              "    </tr>\n",
              "    <tr>\n",
              "      <th>min</th>\n",
              "      <td>0.000000</td>\n",
              "      <td>0.000000</td>\n",
              "    </tr>\n",
              "    <tr>\n",
              "      <th>25%</th>\n",
              "      <td>39872.750000</td>\n",
              "      <td>0.000000</td>\n",
              "    </tr>\n",
              "    <tr>\n",
              "      <th>50%</th>\n",
              "      <td>79721.500000</td>\n",
              "      <td>0.000000</td>\n",
              "    </tr>\n",
              "    <tr>\n",
              "      <th>75%</th>\n",
              "      <td>119573.250000</td>\n",
              "      <td>0.000000</td>\n",
              "    </tr>\n",
              "    <tr>\n",
              "      <th>max</th>\n",
              "      <td>159450.000000</td>\n",
              "      <td>1.000000</td>\n",
              "    </tr>\n",
              "  </tbody>\n",
              "</table>\n",
              "</div>"
            ],
            "text/plain": [
              "          Unnamed: 0          toxic\n",
              "count  159292.000000  159292.000000\n",
              "mean    79725.697242       0.101612\n",
              "std     46028.837471       0.302139\n",
              "min         0.000000       0.000000\n",
              "25%     39872.750000       0.000000\n",
              "50%     79721.500000       0.000000\n",
              "75%    119573.250000       0.000000\n",
              "max    159450.000000       1.000000"
            ]
          },
          "execution_count": 8,
          "metadata": {},
          "output_type": "execute_result"
        }
      ],
      "source": [
        "df.describe()"
      ]
    },
    {
      "cell_type": "code",
      "execution_count": null,
      "metadata": {
        "scrolled": true,
        "id": "he2UzUtjbcFN",
        "outputId": "384e76c3-a1b3-45f2-a756-e84c0cb46391"
      },
      "outputs": [
        {
          "data": {
            "text/plain": [
              "0"
            ]
          },
          "execution_count": 9,
          "metadata": {},
          "output_type": "execute_result"
        }
      ],
      "source": [
        "df.duplicated().sum()"
      ]
    },
    {
      "cell_type": "code",
      "execution_count": null,
      "metadata": {
        "id": "gHXuml6lbcFQ",
        "outputId": "2995e525-8a61-4147-d310-794cf5b9af97"
      },
      "outputs": [
        {
          "data": {
            "text/plain": [
              "Unnamed: 0    0\n",
              "text          0\n",
              "toxic         0\n",
              "dtype: int64"
            ]
          },
          "execution_count": 10,
          "metadata": {},
          "output_type": "execute_result"
        }
      ],
      "source": [
        "df.isna().sum()"
      ]
    },
    {
      "cell_type": "code",
      "execution_count": null,
      "metadata": {
        "id": "pJLVyFqgbcFV"
      },
      "outputs": [],
      "source": [
        "df = df.drop('Unnamed: 0', axis = 1)\n",
        "df['text'] = df['text'].str.lower()"
      ]
    },
    {
      "cell_type": "markdown",
      "metadata": {
        "id": "x4s4Njw8bcFZ"
      },
      "source": [
        "лемматизируeм данные"
      ]
    },
    {
      "cell_type": "code",
      "execution_count": null,
      "metadata": {
        "colab": {
          "referenced_widgets": [
            "35ad8f3c343b48ef89e051f5eff12d3d"
          ]
        },
        "id": "yaEYcBYUbcFa",
        "outputId": "7540f7e7-ea83-40e8-d32a-a90527eda0b0"
      },
      "outputs": [
        {
          "data": {
            "application/vnd.jupyter.widget-view+json": {
              "model_id": "35ad8f3c343b48ef89e051f5eff12d3d",
              "version_major": 2,
              "version_minor": 0
            },
            "text/plain": [
              "  0%|          | 0/159292 [00:00<?, ?it/s]"
            ]
          },
          "metadata": {},
          "output_type": "display_data"
        }
      ],
      "source": [
        "from tqdm.notebook import tqdm\n",
        "tqdm.pandas()\n",
        "\n",
        "nlp = spacy.load(\"en_core_web_sm\")\n",
        "\n",
        "def clear_text(text):\n",
        "    doc = nlp(text)\n",
        "    doc = ' '.join([token.lemma_ for token in doc])\n",
        "    clean_text = re.sub(r'[^a-zA-z]', ' ', text)\n",
        "    clean_text = ' '.join(clean_text.split())\n",
        "    return clean_text\n",
        "df['clean_text'] = df['text'].progress_apply(clear_text)"
      ]
    },
    {
      "cell_type": "code",
      "execution_count": null,
      "metadata": {
        "id": "q35VUuJNbcFc",
        "outputId": "fd939b90-98c8-45cd-b8c7-1cc5dc0f7d7e"
      },
      "outputs": [
        {
          "data": {
            "text/html": [
              "<div>\n",
              "<style scoped>\n",
              "    .dataframe tbody tr th:only-of-type {\n",
              "        vertical-align: middle;\n",
              "    }\n",
              "\n",
              "    .dataframe tbody tr th {\n",
              "        vertical-align: top;\n",
              "    }\n",
              "\n",
              "    .dataframe thead th {\n",
              "        text-align: right;\n",
              "    }\n",
              "</style>\n",
              "<table border=\"1\" class=\"dataframe\">\n",
              "  <thead>\n",
              "    <tr style=\"text-align: right;\">\n",
              "      <th></th>\n",
              "      <th>text</th>\n",
              "      <th>toxic</th>\n",
              "      <th>clean_text</th>\n",
              "    </tr>\n",
              "  </thead>\n",
              "  <tbody>\n",
              "    <tr>\n",
              "      <th>0</th>\n",
              "      <td>explanation\\nwhy the edits made under my usern...</td>\n",
              "      <td>0</td>\n",
              "      <td>explanation why the edits made under my userna...</td>\n",
              "    </tr>\n",
              "    <tr>\n",
              "      <th>1</th>\n",
              "      <td>d'aww! he matches this background colour i'm s...</td>\n",
              "      <td>0</td>\n",
              "      <td>d aww he matches this background colour i m se...</td>\n",
              "    </tr>\n",
              "    <tr>\n",
              "      <th>2</th>\n",
              "      <td>hey man, i'm really not trying to edit war. it...</td>\n",
              "      <td>0</td>\n",
              "      <td>hey man i m really not trying to edit war it s...</td>\n",
              "    </tr>\n",
              "    <tr>\n",
              "      <th>3</th>\n",
              "      <td>\"\\nmore\\ni can't make any real suggestions on ...</td>\n",
              "      <td>0</td>\n",
              "      <td>more i can t make any real suggestions on impr...</td>\n",
              "    </tr>\n",
              "    <tr>\n",
              "      <th>4</th>\n",
              "      <td>you, sir, are my hero. any chance you remember...</td>\n",
              "      <td>0</td>\n",
              "      <td>you sir are my hero any chance you remember wh...</td>\n",
              "    </tr>\n",
              "  </tbody>\n",
              "</table>\n",
              "</div>"
            ],
            "text/plain": [
              "                                                text  toxic  \\\n",
              "0  explanation\\nwhy the edits made under my usern...      0   \n",
              "1  d'aww! he matches this background colour i'm s...      0   \n",
              "2  hey man, i'm really not trying to edit war. it...      0   \n",
              "3  \"\\nmore\\ni can't make any real suggestions on ...      0   \n",
              "4  you, sir, are my hero. any chance you remember...      0   \n",
              "\n",
              "                                          clean_text  \n",
              "0  explanation why the edits made under my userna...  \n",
              "1  d aww he matches this background colour i m se...  \n",
              "2  hey man i m really not trying to edit war it s...  \n",
              "3  more i can t make any real suggestions on impr...  \n",
              "4  you sir are my hero any chance you remember wh...  "
            ]
          },
          "execution_count": 14,
          "metadata": {},
          "output_type": "execute_result"
        }
      ],
      "source": [
        "df.head()"
      ]
    },
    {
      "cell_type": "code",
      "execution_count": null,
      "metadata": {
        "id": "AO1oKeYwbcFk"
      },
      "outputs": [],
      "source": [
        "features = df['clean_text']\n",
        "target = df['toxic']"
      ]
    },
    {
      "cell_type": "code",
      "execution_count": null,
      "metadata": {
        "scrolled": true,
        "id": "08Z4LYG2bcFm",
        "outputId": "2266dea9-26f8-400d-ac02-2f235aab11be"
      },
      "outputs": [
        {
          "name": "stdout",
          "output_type": "stream",
          "text": [
            "(127433,)\n",
            "(127433,)\n",
            "(31859,)\n",
            "(31859,)\n"
          ]
        }
      ],
      "source": [
        "features_train, features_test, target_train, target_test = train_test_split(features,target,\n",
        "                                                                         test_size = 0.2,\n",
        "                                                                         random_state = 12345,\n",
        "                                                                         shuffle = True\n",
        "                                                                         )\n",
        "print(features_train.shape)\n",
        "print(target_train.shape)\n",
        "print(features_test.shape)\n",
        "print(target_test.shape)"
      ]
    },
    {
      "cell_type": "code",
      "execution_count": null,
      "metadata": {
        "id": "JNRXaUKabcFs"
      },
      "outputs": [],
      "source": [
        "count_tf_idf = TfidfVectorizer(stop_words = 'english')"
      ]
    },
    {
      "cell_type": "code",
      "execution_count": null,
      "metadata": {
        "id": "ht1FRmy3bcGK",
        "outputId": "fe19520c-1e9a-49da-d7f5-646e185cee57"
      },
      "outputs": [
        {
          "name": "stdout",
          "output_type": "stream",
          "text": [
            "(127433, 150734)\n",
            "(31859, 150734)\n"
          ]
        }
      ],
      "source": [
        "tf_idf_train = count_tf_idf.fit_transform(features_train)\n",
        "tf_idf_test = count_tf_idf.transform(features_test)\n",
        "print(tf_idf_train.shape)\n",
        "print(tf_idf_test.shape)"
      ]
    },
    {
      "cell_type": "markdown",
      "metadata": {
        "id": "abwGieccbcGO"
      },
      "source": [
        "## Обучение"
      ]
    },
    {
      "cell_type": "code",
      "execution_count": null,
      "metadata": {
        "id": "LKeFPaKKbcGQ",
        "outputId": "12cc35a9-8ec8-495e-c48f-d4cfdb873f30"
      },
      "outputs": [
        {
          "name": "stdout",
          "output_type": "stream",
          "text": [
            "0.7619707857185424\n"
          ]
        }
      ],
      "source": [
        "lr = LogisticRegression(random_state = 12345, solver = 'sag', class_weight = 'balanced')\n",
        "parametrs_lr = { 'C': range (1, 10),\n",
        "              'max_iter': [100],\n",
        "              }\n",
        "grid_lr = GridSearchCV(lr, parametrs_lr, cv = 3, scoring = 'f1')\n",
        "grid_lr.fit(tf_idf_train, target_train)\n",
        "print(grid_lr.best_score_)"
      ]
    },
    {
      "cell_type": "markdown",
      "metadata": {
        "id": "_QqAYlfCbcGS"
      },
      "source": [
        "0.7619707857185424\n",
        "\n"
      ]
    },
    {
      "cell_type": "code",
      "execution_count": null,
      "metadata": {
        "scrolled": true,
        "id": "50aX2JKZbcGg"
      },
      "outputs": [],
      "source": [
        "LGBM = LGBMClassifier()\n",
        "parameters = {'max_iter': [90],\n",
        "              'max_depth': range (15, 20), 'random_state' : [42]}\n",
        "\n",
        "grid_LGBM = GridSearchCV(LGBM, parameters, scoring = 'f1')\n",
        "grid_LGBM.fit(tf_idf_train, target_train)\n",
        "print(grid_LGBM.best_score_)"
      ]
    },
    {
      "cell_type": "markdown",
      "metadata": {
        "id": "q9lQxKhmbcGi"
      },
      "source": [
        "0.7123331955438316"
      ]
    },
    {
      "cell_type": "markdown",
      "metadata": {
        "id": "SDaFALnKbcGk"
      },
      "source": [
        " лучшей моделью оказалась LG"
      ]
    },
    {
      "cell_type": "code",
      "execution_count": null,
      "metadata": {
        "id": "ghMQOCoTbcGm"
      },
      "outputs": [],
      "source": [
        "cbc = CatBoostClassifier()\n",
        "parametrs = {'iterations': [100],\n",
        "        'depth': [5], 'random_state' : [42]}\n",
        "\n",
        "grid_cbc = GridSearchCV(cbc, parametrs, scoring = 'f1')\n",
        "grid_cbc.fit(tf_idf_train, target_train)\n",
        "print(grid_cbc.best_score_)"
      ]
    },
    {
      "cell_type": "markdown",
      "metadata": {
        "id": "WRjyNEeFbcGn"
      },
      "source": [
        "0.7235303868632853"
      ]
    },
    {
      "cell_type": "code",
      "execution_count": null,
      "metadata": {
        "scrolled": true,
        "id": "EUNAoizQbcGq",
        "outputId": "cccd9a66-a0e0-42a1-9c1f-c7dcf7691de5"
      },
      "outputs": [
        {
          "data": {
            "text/plain": [
              "0.7689904870083771"
            ]
          },
          "execution_count": 22,
          "metadata": {},
          "output_type": "execute_result"
        }
      ],
      "source": [
        "predicted_lr = grid_lr.predict(tf_idf_test)\n",
        "f1_log_r_1 = f1_score(target_test, predicted_lr)\n",
        "f1_log_r_1"
      ]
    },
    {
      "cell_type": "markdown",
      "metadata": {
        "id": "ph-A5dgsbcGs"
      },
      "source": [
        "получили на тесте accuraсy  выше 0,75, это считается приемлемым результатом.\n",
        "\n",
        "\n",
        "\n",
        "\n",
        "</div>"
      ]
    },
    {
      "cell_type": "markdown",
      "metadata": {
        "id": "MkuX7f9VbcGt"
      },
      "source": [
        "0.7689904870083771"
      ]
    },
    {
      "cell_type": "markdown",
      "metadata": {
        "id": "gssV_-XqbcGx"
      },
      "source": [
        "<div class=\"alert alert-info\"> <b>ВЫВОД:</b> Датасет объемный. В ходе проекта были загружены и изучены данные, удален неинформативный и не ценный столбец, выполнена лемматизация новым методом spacy, данные приведены к нижнему регистру, поделены на выборки и обучены три модели: LogisticRegression показавшая результат f1 = 0.7619707857185424 и в последствии выбранная как лучшая, CatBoostClassifier с резульатом f1 = 0.7235303868632853 и LGBMClassifier с f1 = 0.7123331955438316, после чего лучшая по результам f1 использована на финальном тестировании и получен результат 0.7689904870083771, что успешно превышает необходимую метрику в 0.75</div>"
      ]
    }
  ],
  "metadata": {
    "ExecuteTimeLog": [
      {
        "duration": 1695,
        "start_time": "2023-03-04T15:34:58.597Z"
      },
      {
        "duration": 4,
        "start_time": "2023-03-04T15:35:09.857Z"
      },
      {
        "duration": 2534,
        "start_time": "2023-03-04T15:35:22.728Z"
      },
      {
        "duration": 9,
        "start_time": "2023-03-04T15:35:35.974Z"
      },
      {
        "duration": 9,
        "start_time": "2023-03-04T15:36:23.607Z"
      },
      {
        "duration": 7,
        "start_time": "2023-03-04T15:36:35.735Z"
      },
      {
        "duration": 8,
        "start_time": "2023-03-04T15:37:20.327Z"
      },
      {
        "duration": 8,
        "start_time": "2023-03-04T15:37:31.537Z"
      },
      {
        "duration": 25,
        "start_time": "2023-03-04T15:37:52.182Z"
      },
      {
        "duration": 259,
        "start_time": "2023-03-04T15:38:10.396Z"
      },
      {
        "duration": 26,
        "start_time": "2023-03-04T15:38:55.337Z"
      },
      {
        "duration": 10,
        "start_time": "2023-03-04T15:43:20.183Z"
      },
      {
        "duration": 3,
        "start_time": "2023-03-04T15:50:27.102Z"
      },
      {
        "duration": 88082,
        "start_time": "2023-03-04T15:52:39.160Z"
      },
      {
        "duration": 90883,
        "start_time": "2023-03-04T15:59:13.332Z"
      },
      {
        "duration": 12,
        "start_time": "2023-03-04T16:00:44.217Z"
      },
      {
        "duration": 88580,
        "start_time": "2023-03-04T16:04:47.135Z"
      },
      {
        "duration": 9,
        "start_time": "2023-03-04T16:06:47.303Z"
      },
      {
        "duration": 446,
        "start_time": "2023-03-04T16:10:32.685Z"
      },
      {
        "duration": 302,
        "start_time": "2023-03-04T16:10:53.131Z"
      },
      {
        "duration": 89924,
        "start_time": "2023-03-04T16:11:11.385Z"
      },
      {
        "duration": 15,
        "start_time": "2023-03-04T16:12:41.311Z"
      },
      {
        "duration": 95013,
        "start_time": "2023-03-04T16:34:04.612Z"
      },
      {
        "duration": 9,
        "start_time": "2023-03-04T16:35:39.627Z"
      },
      {
        "duration": 4,
        "start_time": "2023-03-04T16:35:39.638Z"
      },
      {
        "duration": 70,
        "start_time": "2023-03-04T16:36:08.995Z"
      },
      {
        "duration": 3,
        "start_time": "2023-03-04T16:36:22.200Z"
      },
      {
        "duration": 91435,
        "start_time": "2023-03-04T16:38:24.031Z"
      },
      {
        "duration": 88177,
        "start_time": "2023-03-04T16:39:56.903Z"
      },
      {
        "duration": 3,
        "start_time": "2023-03-04T16:43:12.464Z"
      },
      {
        "duration": 7031,
        "start_time": "2023-03-04T16:43:12.967Z"
      },
      {
        "duration": 7198,
        "start_time": "2023-03-04T16:43:23.882Z"
      },
      {
        "duration": 246691,
        "start_time": "2023-03-04T16:44:57.473Z"
      },
      {
        "duration": 10,
        "start_time": "2023-03-04T16:49:10.183Z"
      },
      {
        "duration": 235905,
        "start_time": "2023-03-04T16:54:40.154Z"
      },
      {
        "duration": 12,
        "start_time": "2023-03-04T16:58:36.061Z"
      },
      {
        "duration": 1679,
        "start_time": "2023-03-04T17:07:19.321Z"
      },
      {
        "duration": 4,
        "start_time": "2023-03-04T17:07:21.002Z"
      },
      {
        "duration": 3281,
        "start_time": "2023-03-04T17:07:21.007Z"
      },
      {
        "duration": 11,
        "start_time": "2023-03-04T17:07:24.291Z"
      },
      {
        "duration": 27,
        "start_time": "2023-03-04T17:07:24.304Z"
      },
      {
        "duration": 9,
        "start_time": "2023-03-04T17:07:24.333Z"
      },
      {
        "duration": 24,
        "start_time": "2023-03-04T17:07:24.344Z"
      },
      {
        "duration": 26,
        "start_time": "2023-03-04T17:07:24.370Z"
      },
      {
        "duration": 273,
        "start_time": "2023-03-04T17:07:24.398Z"
      },
      {
        "duration": 28,
        "start_time": "2023-03-04T17:07:24.675Z"
      },
      {
        "duration": 29,
        "start_time": "2023-03-04T17:07:24.705Z"
      },
      {
        "duration": 1755,
        "start_time": "2023-03-04T17:07:24.736Z"
      },
      {
        "duration": 1,
        "start_time": "2023-03-04T17:07:26.493Z"
      },
      {
        "duration": 0,
        "start_time": "2023-03-04T17:07:26.495Z"
      },
      {
        "duration": 0,
        "start_time": "2023-03-04T17:07:26.496Z"
      },
      {
        "duration": 0,
        "start_time": "2023-03-04T17:07:26.498Z"
      },
      {
        "duration": 0,
        "start_time": "2023-03-04T17:07:26.500Z"
      },
      {
        "duration": 0,
        "start_time": "2023-03-04T17:07:26.501Z"
      },
      {
        "duration": 0,
        "start_time": "2023-03-04T17:07:26.503Z"
      },
      {
        "duration": 1625,
        "start_time": "2023-03-04T17:11:17.464Z"
      },
      {
        "duration": 4,
        "start_time": "2023-03-04T17:11:19.092Z"
      },
      {
        "duration": 2296,
        "start_time": "2023-03-04T17:11:19.098Z"
      },
      {
        "duration": 10,
        "start_time": "2023-03-04T17:11:21.396Z"
      },
      {
        "duration": 11,
        "start_time": "2023-03-04T17:11:21.425Z"
      },
      {
        "duration": 9,
        "start_time": "2023-03-04T17:11:21.438Z"
      },
      {
        "duration": 9,
        "start_time": "2023-03-04T17:11:21.449Z"
      },
      {
        "duration": 27,
        "start_time": "2023-03-04T17:11:21.460Z"
      },
      {
        "duration": 264,
        "start_time": "2023-03-04T17:11:21.523Z"
      },
      {
        "duration": 40,
        "start_time": "2023-03-04T17:11:21.788Z"
      },
      {
        "duration": 12,
        "start_time": "2023-03-04T17:11:21.830Z"
      },
      {
        "duration": 1707,
        "start_time": "2023-03-04T17:12:29.192Z"
      },
      {
        "duration": 3,
        "start_time": "2023-03-04T17:12:30.901Z"
      },
      {
        "duration": 2189,
        "start_time": "2023-03-04T17:12:30.906Z"
      },
      {
        "duration": 25,
        "start_time": "2023-03-04T17:12:33.098Z"
      },
      {
        "duration": 13,
        "start_time": "2023-03-04T17:12:33.127Z"
      },
      {
        "duration": 13,
        "start_time": "2023-03-04T17:12:33.143Z"
      },
      {
        "duration": 9,
        "start_time": "2023-03-04T17:12:33.159Z"
      },
      {
        "duration": 55,
        "start_time": "2023-03-04T17:12:33.170Z"
      },
      {
        "duration": 275,
        "start_time": "2023-03-04T17:12:33.227Z"
      },
      {
        "duration": 36,
        "start_time": "2023-03-04T17:12:33.504Z"
      },
      {
        "duration": 16,
        "start_time": "2023-03-04T17:12:33.542Z"
      },
      {
        "duration": 93481,
        "start_time": "2023-03-04T17:12:33.561Z"
      },
      {
        "duration": 9,
        "start_time": "2023-03-04T17:14:07.044Z"
      },
      {
        "duration": 3,
        "start_time": "2023-03-04T17:14:07.056Z"
      },
      {
        "duration": 63,
        "start_time": "2023-03-04T17:14:07.061Z"
      },
      {
        "duration": 3,
        "start_time": "2023-03-04T17:14:07.127Z"
      },
      {
        "duration": 7228,
        "start_time": "2023-03-04T17:14:07.132Z"
      },
      {
        "duration": 239512,
        "start_time": "2023-03-04T17:14:14.361Z"
      },
      {
        "duration": 143,
        "start_time": "2023-03-04T17:18:13.875Z"
      },
      {
        "duration": 1743,
        "start_time": "2023-03-04T18:07:14.352Z"
      },
      {
        "duration": 3,
        "start_time": "2023-03-04T18:07:16.098Z"
      },
      {
        "duration": 2721,
        "start_time": "2023-03-04T18:07:16.103Z"
      },
      {
        "duration": 11,
        "start_time": "2023-03-04T18:07:18.826Z"
      },
      {
        "duration": 19,
        "start_time": "2023-03-04T18:07:18.847Z"
      },
      {
        "duration": 16,
        "start_time": "2023-03-04T18:07:18.868Z"
      },
      {
        "duration": 15,
        "start_time": "2023-03-04T18:07:18.885Z"
      },
      {
        "duration": 60,
        "start_time": "2023-03-04T18:07:18.903Z"
      },
      {
        "duration": 319,
        "start_time": "2023-03-04T18:07:18.965Z"
      },
      {
        "duration": 43,
        "start_time": "2023-03-04T18:07:19.286Z"
      },
      {
        "duration": 31,
        "start_time": "2023-03-04T18:07:19.330Z"
      },
      {
        "duration": 109937,
        "start_time": "2023-03-04T18:07:19.363Z"
      },
      {
        "duration": 8,
        "start_time": "2023-03-04T18:09:09.302Z"
      },
      {
        "duration": 12,
        "start_time": "2023-03-04T18:09:09.323Z"
      },
      {
        "duration": 50,
        "start_time": "2023-03-04T18:09:09.342Z"
      },
      {
        "duration": 2,
        "start_time": "2023-03-04T18:09:09.394Z"
      },
      {
        "duration": 8330,
        "start_time": "2023-03-04T18:09:09.398Z"
      },
      {
        "duration": 1648,
        "start_time": "2023-03-04T18:10:31.814Z"
      },
      {
        "duration": 3,
        "start_time": "2023-03-04T18:10:33.464Z"
      },
      {
        "duration": 2478,
        "start_time": "2023-03-04T18:10:33.469Z"
      },
      {
        "duration": 12,
        "start_time": "2023-03-04T18:10:35.948Z"
      },
      {
        "duration": 28,
        "start_time": "2023-03-04T18:10:35.962Z"
      },
      {
        "duration": 10,
        "start_time": "2023-03-04T18:10:35.992Z"
      },
      {
        "duration": 9,
        "start_time": "2023-03-04T18:10:36.004Z"
      },
      {
        "duration": 34,
        "start_time": "2023-03-04T18:10:36.026Z"
      },
      {
        "duration": 286,
        "start_time": "2023-03-04T18:10:36.061Z"
      },
      {
        "duration": 30,
        "start_time": "2023-03-04T18:10:36.349Z"
      },
      {
        "duration": 21,
        "start_time": "2023-03-04T18:10:36.381Z"
      },
      {
        "duration": 1651,
        "start_time": "2023-03-04T18:11:31.808Z"
      },
      {
        "duration": 3,
        "start_time": "2023-03-04T18:11:33.461Z"
      },
      {
        "duration": 2373,
        "start_time": "2023-03-04T18:11:33.465Z"
      },
      {
        "duration": 12,
        "start_time": "2023-03-04T18:11:35.845Z"
      },
      {
        "duration": 10,
        "start_time": "2023-03-04T18:11:35.859Z"
      },
      {
        "duration": 7,
        "start_time": "2023-03-04T18:11:35.871Z"
      },
      {
        "duration": 7,
        "start_time": "2023-03-04T18:11:35.879Z"
      },
      {
        "duration": 49,
        "start_time": "2023-03-04T18:11:35.888Z"
      },
      {
        "duration": 252,
        "start_time": "2023-03-04T18:11:35.938Z"
      },
      {
        "duration": 42,
        "start_time": "2023-03-04T18:11:36.192Z"
      },
      {
        "duration": 16,
        "start_time": "2023-03-04T18:11:36.236Z"
      },
      {
        "duration": 104540,
        "start_time": "2023-03-04T18:11:36.254Z"
      },
      {
        "duration": 10,
        "start_time": "2023-03-04T18:13:20.796Z"
      },
      {
        "duration": 34,
        "start_time": "2023-03-04T18:13:20.808Z"
      },
      {
        "duration": 37,
        "start_time": "2023-03-04T18:13:20.847Z"
      },
      {
        "duration": 3,
        "start_time": "2023-03-04T18:13:20.886Z"
      },
      {
        "duration": 7947,
        "start_time": "2023-03-04T18:13:20.891Z"
      },
      {
        "duration": 226536,
        "start_time": "2023-03-04T18:13:28.842Z"
      },
      {
        "duration": 16,
        "start_time": "2023-03-04T18:17:15.380Z"
      },
      {
        "duration": 3553,
        "start_time": "2023-03-04T18:17:15.398Z"
      },
      {
        "duration": 0,
        "start_time": "2023-03-04T18:17:18.953Z"
      },
      {
        "duration": 0,
        "start_time": "2023-03-04T18:17:18.954Z"
      },
      {
        "duration": 0,
        "start_time": "2023-03-04T18:17:18.955Z"
      },
      {
        "duration": 1591,
        "start_time": "2023-03-04T18:18:42.477Z"
      },
      {
        "duration": 4,
        "start_time": "2023-03-04T18:18:44.071Z"
      },
      {
        "duration": 2888,
        "start_time": "2023-03-04T18:18:44.077Z"
      },
      {
        "duration": 10,
        "start_time": "2023-03-04T18:18:46.967Z"
      },
      {
        "duration": 10,
        "start_time": "2023-03-04T18:18:46.979Z"
      },
      {
        "duration": 9,
        "start_time": "2023-03-04T18:18:46.990Z"
      },
      {
        "duration": 41,
        "start_time": "2023-03-04T18:18:47.000Z"
      },
      {
        "duration": 25,
        "start_time": "2023-03-04T18:18:47.043Z"
      },
      {
        "duration": 276,
        "start_time": "2023-03-04T18:18:47.069Z"
      },
      {
        "duration": 30,
        "start_time": "2023-03-04T18:18:47.346Z"
      },
      {
        "duration": 13,
        "start_time": "2023-03-04T18:18:47.378Z"
      },
      {
        "duration": 96261,
        "start_time": "2023-03-04T18:18:47.392Z"
      },
      {
        "duration": 10,
        "start_time": "2023-03-04T18:20:23.655Z"
      },
      {
        "duration": 11,
        "start_time": "2023-03-04T18:20:23.669Z"
      },
      {
        "duration": 70,
        "start_time": "2023-03-04T18:20:23.682Z"
      },
      {
        "duration": 3,
        "start_time": "2023-03-04T18:20:23.754Z"
      },
      {
        "duration": 7586,
        "start_time": "2023-03-04T18:20:23.759Z"
      },
      {
        "duration": 239707,
        "start_time": "2023-03-04T18:20:31.347Z"
      },
      {
        "duration": 15,
        "start_time": "2023-03-04T18:24:31.056Z"
      },
      {
        "duration": 1054329,
        "start_time": "2023-03-04T18:24:31.073Z"
      },
      {
        "duration": 108,
        "start_time": "2023-03-04T18:42:05.404Z"
      },
      {
        "duration": 0,
        "start_time": "2023-03-04T18:42:05.514Z"
      },
      {
        "duration": 0,
        "start_time": "2023-03-04T18:42:05.515Z"
      },
      {
        "duration": 165,
        "start_time": "2023-03-04T18:56:08.221Z"
      },
      {
        "duration": 1886,
        "start_time": "2023-03-04T19:46:40.556Z"
      },
      {
        "duration": 4,
        "start_time": "2023-03-04T19:46:42.444Z"
      },
      {
        "duration": 2340,
        "start_time": "2023-03-04T19:46:42.449Z"
      },
      {
        "duration": 10,
        "start_time": "2023-03-04T19:46:44.791Z"
      },
      {
        "duration": 42,
        "start_time": "2023-03-04T19:46:44.804Z"
      },
      {
        "duration": 11,
        "start_time": "2023-03-04T19:46:44.847Z"
      },
      {
        "duration": 28,
        "start_time": "2023-03-04T19:46:44.860Z"
      },
      {
        "duration": 34,
        "start_time": "2023-03-04T19:46:44.890Z"
      },
      {
        "duration": 270,
        "start_time": "2023-03-04T19:46:44.925Z"
      },
      {
        "duration": 42,
        "start_time": "2023-03-04T19:46:45.198Z"
      },
      {
        "duration": 12,
        "start_time": "2023-03-04T19:46:45.242Z"
      },
      {
        "duration": 100118,
        "start_time": "2023-03-04T19:46:45.256Z"
      },
      {
        "duration": 10,
        "start_time": "2023-03-04T19:48:25.376Z"
      },
      {
        "duration": 6,
        "start_time": "2023-03-04T19:48:25.390Z"
      },
      {
        "duration": 65,
        "start_time": "2023-03-04T19:48:25.397Z"
      },
      {
        "duration": 3,
        "start_time": "2023-03-04T19:48:25.463Z"
      },
      {
        "duration": 8024,
        "start_time": "2023-03-04T19:48:25.468Z"
      },
      {
        "duration": 2,
        "start_time": "2023-03-04T19:48:33.494Z"
      },
      {
        "duration": 4,
        "start_time": "2023-03-04T19:48:33.498Z"
      },
      {
        "duration": 3,
        "start_time": "2023-03-04T19:48:33.504Z"
      },
      {
        "duration": 166,
        "start_time": "2023-03-04T19:48:33.508Z"
      },
      {
        "duration": 0,
        "start_time": "2023-03-04T19:48:33.675Z"
      },
      {
        "duration": 0,
        "start_time": "2023-03-04T19:48:33.676Z"
      },
      {
        "duration": 16,
        "start_time": "2023-03-04T19:49:44.522Z"
      },
      {
        "duration": 1063972,
        "start_time": "2023-03-04T19:49:48.065Z"
      },
      {
        "duration": 405,
        "start_time": "2023-03-04T20:07:32.039Z"
      },
      {
        "duration": 6305,
        "start_time": "2023-03-05T19:27:46.616Z"
      },
      {
        "duration": 3,
        "start_time": "2023-03-05T19:27:52.923Z"
      },
      {
        "duration": 2398,
        "start_time": "2023-03-05T19:27:52.928Z"
      },
      {
        "duration": 386,
        "start_time": "2023-03-05T19:27:55.329Z"
      },
      {
        "duration": 0,
        "start_time": "2023-03-05T19:27:55.717Z"
      },
      {
        "duration": 0,
        "start_time": "2023-03-05T19:27:55.719Z"
      },
      {
        "duration": 0,
        "start_time": "2023-03-05T19:27:55.720Z"
      },
      {
        "duration": 0,
        "start_time": "2023-03-05T19:27:55.721Z"
      },
      {
        "duration": 0,
        "start_time": "2023-03-05T19:27:55.723Z"
      },
      {
        "duration": 0,
        "start_time": "2023-03-05T19:27:55.724Z"
      },
      {
        "duration": 0,
        "start_time": "2023-03-05T19:27:55.725Z"
      },
      {
        "duration": 0,
        "start_time": "2023-03-05T19:27:55.739Z"
      },
      {
        "duration": 0,
        "start_time": "2023-03-05T19:27:55.740Z"
      },
      {
        "duration": 0,
        "start_time": "2023-03-05T19:27:55.741Z"
      },
      {
        "duration": 0,
        "start_time": "2023-03-05T19:27:55.742Z"
      },
      {
        "duration": 0,
        "start_time": "2023-03-05T19:27:55.743Z"
      },
      {
        "duration": 0,
        "start_time": "2023-03-05T19:27:55.744Z"
      },
      {
        "duration": 0,
        "start_time": "2023-03-05T19:27:55.745Z"
      },
      {
        "duration": 0,
        "start_time": "2023-03-05T19:27:55.745Z"
      },
      {
        "duration": 0,
        "start_time": "2023-03-05T19:27:55.746Z"
      },
      {
        "duration": 0,
        "start_time": "2023-03-05T19:27:55.747Z"
      },
      {
        "duration": 0,
        "start_time": "2023-03-05T19:27:55.748Z"
      },
      {
        "duration": 0,
        "start_time": "2023-03-05T19:27:55.749Z"
      },
      {
        "duration": 0,
        "start_time": "2023-03-05T19:27:55.750Z"
      },
      {
        "duration": 4680,
        "start_time": "2023-03-05T19:28:18.633Z"
      },
      {
        "duration": 3,
        "start_time": "2023-03-05T19:28:23.315Z"
      },
      {
        "duration": 2359,
        "start_time": "2023-03-05T19:28:23.320Z"
      },
      {
        "duration": 9,
        "start_time": "2023-03-05T19:28:25.682Z"
      },
      {
        "duration": 51,
        "start_time": "2023-03-05T19:28:25.692Z"
      },
      {
        "duration": 14,
        "start_time": "2023-03-05T19:28:25.745Z"
      },
      {
        "duration": 20,
        "start_time": "2023-03-05T19:28:25.761Z"
      },
      {
        "duration": 41,
        "start_time": "2023-03-05T19:28:25.783Z"
      },
      {
        "duration": 251,
        "start_time": "2023-03-05T19:28:25.826Z"
      },
      {
        "duration": 29,
        "start_time": "2023-03-05T19:28:26.080Z"
      },
      {
        "duration": 29,
        "start_time": "2023-03-05T19:28:26.111Z"
      },
      {
        "duration": 22,
        "start_time": "2023-03-05T19:28:26.142Z"
      },
      {
        "duration": 52,
        "start_time": "2023-03-05T19:28:26.166Z"
      },
      {
        "duration": 0,
        "start_time": "2023-03-05T19:28:26.220Z"
      },
      {
        "duration": 0,
        "start_time": "2023-03-05T19:28:26.222Z"
      },
      {
        "duration": 0,
        "start_time": "2023-03-05T19:28:26.223Z"
      },
      {
        "duration": 0,
        "start_time": "2023-03-05T19:28:26.224Z"
      },
      {
        "duration": 0,
        "start_time": "2023-03-05T19:28:26.225Z"
      },
      {
        "duration": 0,
        "start_time": "2023-03-05T19:28:26.226Z"
      },
      {
        "duration": 0,
        "start_time": "2023-03-05T19:28:26.228Z"
      },
      {
        "duration": 0,
        "start_time": "2023-03-05T19:28:26.229Z"
      },
      {
        "duration": 0,
        "start_time": "2023-03-05T19:28:26.230Z"
      },
      {
        "duration": 0,
        "start_time": "2023-03-05T19:28:26.231Z"
      },
      {
        "duration": 0,
        "start_time": "2023-03-05T19:28:26.233Z"
      },
      {
        "duration": 694,
        "start_time": "2023-03-05T19:28:47.829Z"
      },
      {
        "duration": 7,
        "start_time": "2023-03-05T19:28:51.476Z"
      },
      {
        "duration": 4609,
        "start_time": "2023-03-05T19:31:34.090Z"
      },
      {
        "duration": 3,
        "start_time": "2023-03-05T19:31:38.701Z"
      },
      {
        "duration": 1518,
        "start_time": "2023-03-05T19:31:38.706Z"
      },
      {
        "duration": 23,
        "start_time": "2023-03-05T19:31:40.226Z"
      },
      {
        "duration": 38,
        "start_time": "2023-03-05T19:31:40.252Z"
      },
      {
        "duration": 12,
        "start_time": "2023-03-05T19:31:40.291Z"
      },
      {
        "duration": 14,
        "start_time": "2023-03-05T19:31:40.305Z"
      },
      {
        "duration": 31,
        "start_time": "2023-03-05T19:31:40.321Z"
      },
      {
        "duration": 236,
        "start_time": "2023-03-05T19:31:40.353Z"
      },
      {
        "duration": 27,
        "start_time": "2023-03-05T19:31:40.591Z"
      },
      {
        "duration": 29,
        "start_time": "2023-03-05T19:31:40.619Z"
      },
      {
        "duration": 5,
        "start_time": "2023-03-05T19:31:40.650Z"
      },
      {
        "duration": 518,
        "start_time": "2023-03-05T19:31:40.657Z"
      },
      {
        "duration": 6,
        "start_time": "2023-03-05T19:31:41.178Z"
      },
      {
        "duration": 1172,
        "start_time": "2023-03-05T19:31:41.186Z"
      },
      {
        "duration": 0,
        "start_time": "2023-03-05T19:31:42.360Z"
      },
      {
        "duration": 0,
        "start_time": "2023-03-05T19:31:42.361Z"
      },
      {
        "duration": 0,
        "start_time": "2023-03-05T19:31:42.362Z"
      },
      {
        "duration": 0,
        "start_time": "2023-03-05T19:31:42.363Z"
      },
      {
        "duration": 0,
        "start_time": "2023-03-05T19:31:42.364Z"
      },
      {
        "duration": 0,
        "start_time": "2023-03-05T19:31:42.365Z"
      },
      {
        "duration": 0,
        "start_time": "2023-03-05T19:31:42.366Z"
      },
      {
        "duration": 0,
        "start_time": "2023-03-05T19:31:42.367Z"
      },
      {
        "duration": 0,
        "start_time": "2023-03-05T19:31:42.368Z"
      },
      {
        "duration": 527,
        "start_time": "2023-03-05T19:32:19.778Z"
      },
      {
        "duration": 8,
        "start_time": "2023-03-05T19:32:20.780Z"
      },
      {
        "duration": 548,
        "start_time": "2023-03-05T19:33:52.486Z"
      },
      {
        "duration": 8,
        "start_time": "2023-03-05T19:33:53.892Z"
      },
      {
        "duration": 499,
        "start_time": "2023-03-05T19:34:01.402Z"
      },
      {
        "duration": 7,
        "start_time": "2023-03-05T19:34:01.913Z"
      },
      {
        "duration": 765,
        "start_time": "2023-03-05T19:34:13.887Z"
      },
      {
        "duration": 516,
        "start_time": "2023-03-05T19:34:22.665Z"
      },
      {
        "duration": 26,
        "start_time": "2023-03-05T19:34:36.108Z"
      },
      {
        "duration": 4509,
        "start_time": "2023-03-05T19:34:50.268Z"
      },
      {
        "duration": 3,
        "start_time": "2023-03-05T19:34:54.779Z"
      },
      {
        "duration": 2268,
        "start_time": "2023-03-05T19:34:54.783Z"
      },
      {
        "duration": 9,
        "start_time": "2023-03-05T19:34:57.053Z"
      },
      {
        "duration": 65,
        "start_time": "2023-03-05T19:34:57.064Z"
      },
      {
        "duration": 19,
        "start_time": "2023-03-05T19:34:57.131Z"
      },
      {
        "duration": 21,
        "start_time": "2023-03-05T19:34:57.153Z"
      },
      {
        "duration": 32,
        "start_time": "2023-03-05T19:34:57.176Z"
      },
      {
        "duration": 275,
        "start_time": "2023-03-05T19:34:57.210Z"
      },
      {
        "duration": 28,
        "start_time": "2023-03-05T19:34:57.488Z"
      },
      {
        "duration": 396,
        "start_time": "2023-03-05T19:34:57.518Z"
      },
      {
        "duration": 0,
        "start_time": "2023-03-05T19:34:57.916Z"
      },
      {
        "duration": 0,
        "start_time": "2023-03-05T19:34:57.917Z"
      },
      {
        "duration": 0,
        "start_time": "2023-03-05T19:34:57.918Z"
      },
      {
        "duration": 0,
        "start_time": "2023-03-05T19:34:57.919Z"
      },
      {
        "duration": 0,
        "start_time": "2023-03-05T19:34:57.920Z"
      },
      {
        "duration": 0,
        "start_time": "2023-03-05T19:34:57.921Z"
      },
      {
        "duration": 0,
        "start_time": "2023-03-05T19:34:57.922Z"
      },
      {
        "duration": 0,
        "start_time": "2023-03-05T19:34:57.923Z"
      },
      {
        "duration": 0,
        "start_time": "2023-03-05T19:34:57.924Z"
      },
      {
        "duration": 0,
        "start_time": "2023-03-05T19:34:57.925Z"
      },
      {
        "duration": 0,
        "start_time": "2023-03-05T19:34:57.926Z"
      },
      {
        "duration": 0,
        "start_time": "2023-03-05T19:34:57.927Z"
      },
      {
        "duration": 0,
        "start_time": "2023-03-05T19:34:57.937Z"
      },
      {
        "duration": 4476,
        "start_time": "2023-03-05T19:36:29.536Z"
      },
      {
        "duration": 4,
        "start_time": "2023-03-05T19:36:34.014Z"
      },
      {
        "duration": 1915,
        "start_time": "2023-03-05T19:36:34.019Z"
      },
      {
        "duration": 18,
        "start_time": "2023-03-05T19:36:35.937Z"
      },
      {
        "duration": 47,
        "start_time": "2023-03-05T19:36:35.958Z"
      },
      {
        "duration": 10,
        "start_time": "2023-03-05T19:36:36.007Z"
      },
      {
        "duration": 9,
        "start_time": "2023-03-05T19:36:36.018Z"
      },
      {
        "duration": 29,
        "start_time": "2023-03-05T19:36:36.037Z"
      },
      {
        "duration": 264,
        "start_time": "2023-03-05T19:36:36.068Z"
      },
      {
        "duration": 29,
        "start_time": "2023-03-05T19:36:36.337Z"
      },
      {
        "duration": 398,
        "start_time": "2023-03-05T19:36:36.368Z"
      },
      {
        "duration": 0,
        "start_time": "2023-03-05T19:36:36.768Z"
      },
      {
        "duration": 0,
        "start_time": "2023-03-05T19:36:36.769Z"
      },
      {
        "duration": 0,
        "start_time": "2023-03-05T19:36:36.770Z"
      },
      {
        "duration": 0,
        "start_time": "2023-03-05T19:36:36.771Z"
      },
      {
        "duration": 0,
        "start_time": "2023-03-05T19:36:36.772Z"
      },
      {
        "duration": 0,
        "start_time": "2023-03-05T19:36:36.774Z"
      },
      {
        "duration": 0,
        "start_time": "2023-03-05T19:36:36.775Z"
      },
      {
        "duration": 0,
        "start_time": "2023-03-05T19:36:36.776Z"
      },
      {
        "duration": 0,
        "start_time": "2023-03-05T19:36:36.777Z"
      },
      {
        "duration": 0,
        "start_time": "2023-03-05T19:36:36.778Z"
      },
      {
        "duration": 0,
        "start_time": "2023-03-05T19:36:36.779Z"
      },
      {
        "duration": 0,
        "start_time": "2023-03-05T19:36:36.781Z"
      },
      {
        "duration": 0,
        "start_time": "2023-03-05T19:36:36.782Z"
      },
      {
        "duration": 4624,
        "start_time": "2023-03-05T19:37:05.578Z"
      },
      {
        "duration": 3,
        "start_time": "2023-03-05T19:37:10.204Z"
      },
      {
        "duration": 1691,
        "start_time": "2023-03-05T19:37:10.209Z"
      },
      {
        "duration": 10,
        "start_time": "2023-03-05T19:37:11.903Z"
      },
      {
        "duration": 51,
        "start_time": "2023-03-05T19:37:11.915Z"
      },
      {
        "duration": 11,
        "start_time": "2023-03-05T19:37:11.969Z"
      },
      {
        "duration": 8,
        "start_time": "2023-03-05T19:37:11.981Z"
      },
      {
        "duration": 54,
        "start_time": "2023-03-05T19:37:11.991Z"
      },
      {
        "duration": 264,
        "start_time": "2023-03-05T19:37:12.047Z"
      },
      {
        "duration": 42,
        "start_time": "2023-03-05T19:37:12.314Z"
      },
      {
        "duration": 409,
        "start_time": "2023-03-05T19:37:12.358Z"
      },
      {
        "duration": 3,
        "start_time": "2023-03-05T19:37:12.769Z"
      },
      {
        "duration": 601,
        "start_time": "2023-03-05T19:37:12.774Z"
      },
      {
        "duration": 8,
        "start_time": "2023-03-05T19:37:13.377Z"
      },
      {
        "duration": 1211,
        "start_time": "2023-03-05T19:37:13.388Z"
      },
      {
        "duration": 0,
        "start_time": "2023-03-05T19:37:14.601Z"
      },
      {
        "duration": 0,
        "start_time": "2023-03-05T19:37:14.603Z"
      },
      {
        "duration": 0,
        "start_time": "2023-03-05T19:37:14.605Z"
      },
      {
        "duration": 0,
        "start_time": "2023-03-05T19:37:14.606Z"
      },
      {
        "duration": 0,
        "start_time": "2023-03-05T19:37:14.607Z"
      },
      {
        "duration": 0,
        "start_time": "2023-03-05T19:37:14.609Z"
      },
      {
        "duration": 0,
        "start_time": "2023-03-05T19:37:14.611Z"
      },
      {
        "duration": 0,
        "start_time": "2023-03-05T19:37:14.613Z"
      },
      {
        "duration": 0,
        "start_time": "2023-03-05T19:37:14.615Z"
      },
      {
        "duration": 4391,
        "start_time": "2023-03-05T19:38:24.688Z"
      },
      {
        "duration": 3,
        "start_time": "2023-03-05T19:38:29.081Z"
      },
      {
        "duration": 1829,
        "start_time": "2023-03-05T19:38:29.085Z"
      },
      {
        "duration": 9,
        "start_time": "2023-03-05T19:38:30.916Z"
      },
      {
        "duration": 92,
        "start_time": "2023-03-05T19:38:30.926Z"
      },
      {
        "duration": 29,
        "start_time": "2023-03-05T19:38:31.020Z"
      },
      {
        "duration": 50,
        "start_time": "2023-03-05T19:38:31.051Z"
      },
      {
        "duration": 69,
        "start_time": "2023-03-05T19:38:31.104Z"
      },
      {
        "duration": 282,
        "start_time": "2023-03-05T19:38:31.174Z"
      },
      {
        "duration": 31,
        "start_time": "2023-03-05T19:38:31.460Z"
      },
      {
        "duration": 383,
        "start_time": "2023-03-05T19:38:31.493Z"
      },
      {
        "duration": 3,
        "start_time": "2023-03-05T19:38:31.877Z"
      },
      {
        "duration": 665,
        "start_time": "2023-03-05T19:38:31.882Z"
      },
      {
        "duration": 11,
        "start_time": "2023-03-05T19:38:32.549Z"
      },
      {
        "duration": 1403,
        "start_time": "2023-03-05T19:38:32.562Z"
      },
      {
        "duration": 0,
        "start_time": "2023-03-05T19:38:33.967Z"
      },
      {
        "duration": 0,
        "start_time": "2023-03-05T19:38:33.969Z"
      },
      {
        "duration": 0,
        "start_time": "2023-03-05T19:38:33.970Z"
      },
      {
        "duration": 0,
        "start_time": "2023-03-05T19:38:33.971Z"
      },
      {
        "duration": 0,
        "start_time": "2023-03-05T19:38:33.972Z"
      },
      {
        "duration": 0,
        "start_time": "2023-03-05T19:38:33.974Z"
      },
      {
        "duration": 0,
        "start_time": "2023-03-05T19:38:33.975Z"
      },
      {
        "duration": 0,
        "start_time": "2023-03-05T19:38:33.976Z"
      },
      {
        "duration": 0,
        "start_time": "2023-03-05T19:38:33.977Z"
      },
      {
        "duration": 4606,
        "start_time": "2023-03-05T19:39:28.428Z"
      },
      {
        "duration": 4,
        "start_time": "2023-03-05T19:39:33.046Z"
      },
      {
        "duration": 1711,
        "start_time": "2023-03-05T19:39:33.052Z"
      },
      {
        "duration": 9,
        "start_time": "2023-03-05T19:39:34.765Z"
      },
      {
        "duration": 45,
        "start_time": "2023-03-05T19:39:34.776Z"
      },
      {
        "duration": 31,
        "start_time": "2023-03-05T19:39:34.823Z"
      },
      {
        "duration": 18,
        "start_time": "2023-03-05T19:39:34.856Z"
      },
      {
        "duration": 34,
        "start_time": "2023-03-05T19:39:34.875Z"
      },
      {
        "duration": 281,
        "start_time": "2023-03-05T19:39:34.912Z"
      },
      {
        "duration": 29,
        "start_time": "2023-03-05T19:39:35.198Z"
      },
      {
        "duration": 382,
        "start_time": "2023-03-05T19:39:35.238Z"
      },
      {
        "duration": 3,
        "start_time": "2023-03-05T19:39:35.622Z"
      },
      {
        "duration": 590,
        "start_time": "2023-03-05T19:39:35.626Z"
      },
      {
        "duration": 7,
        "start_time": "2023-03-05T19:39:36.218Z"
      },
      {
        "duration": 1190,
        "start_time": "2023-03-05T19:39:36.227Z"
      },
      {
        "duration": 0,
        "start_time": "2023-03-05T19:39:37.419Z"
      },
      {
        "duration": 0,
        "start_time": "2023-03-05T19:39:37.421Z"
      },
      {
        "duration": 0,
        "start_time": "2023-03-05T19:39:37.422Z"
      },
      {
        "duration": 0,
        "start_time": "2023-03-05T19:39:37.423Z"
      },
      {
        "duration": 0,
        "start_time": "2023-03-05T19:39:37.424Z"
      },
      {
        "duration": 0,
        "start_time": "2023-03-05T19:39:37.426Z"
      },
      {
        "duration": 0,
        "start_time": "2023-03-05T19:39:37.427Z"
      },
      {
        "duration": 0,
        "start_time": "2023-03-05T19:39:37.428Z"
      },
      {
        "duration": 0,
        "start_time": "2023-03-05T19:39:37.430Z"
      },
      {
        "duration": 4809,
        "start_time": "2023-03-05T19:42:07.124Z"
      },
      {
        "duration": 12,
        "start_time": "2023-03-05T19:42:11.935Z"
      },
      {
        "duration": 1515,
        "start_time": "2023-03-05T19:42:11.949Z"
      },
      {
        "duration": 9,
        "start_time": "2023-03-05T19:42:13.466Z"
      },
      {
        "duration": 40,
        "start_time": "2023-03-05T19:42:13.477Z"
      },
      {
        "duration": 38,
        "start_time": "2023-03-05T19:42:13.519Z"
      },
      {
        "duration": 8,
        "start_time": "2023-03-05T19:42:13.558Z"
      },
      {
        "duration": 28,
        "start_time": "2023-03-05T19:42:13.568Z"
      },
      {
        "duration": 277,
        "start_time": "2023-03-05T19:42:13.598Z"
      },
      {
        "duration": 28,
        "start_time": "2023-03-05T19:42:13.878Z"
      },
      {
        "duration": 328,
        "start_time": "2023-03-05T19:42:13.908Z"
      },
      {
        "duration": 14,
        "start_time": "2023-03-05T19:42:14.238Z"
      },
      {
        "duration": 4455,
        "start_time": "2023-03-05T19:45:36.415Z"
      },
      {
        "duration": 3,
        "start_time": "2023-03-05T19:45:40.872Z"
      },
      {
        "duration": 1572,
        "start_time": "2023-03-05T19:45:40.876Z"
      },
      {
        "duration": 14,
        "start_time": "2023-03-05T19:45:42.452Z"
      },
      {
        "duration": 65,
        "start_time": "2023-03-05T19:45:42.468Z"
      },
      {
        "duration": 29,
        "start_time": "2023-03-05T19:45:42.536Z"
      },
      {
        "duration": 38,
        "start_time": "2023-03-05T19:45:42.567Z"
      },
      {
        "duration": 77,
        "start_time": "2023-03-05T19:45:42.608Z"
      },
      {
        "duration": 263,
        "start_time": "2023-03-05T19:45:42.687Z"
      },
      {
        "duration": 28,
        "start_time": "2023-03-05T19:45:42.953Z"
      },
      {
        "duration": 344,
        "start_time": "2023-03-05T19:45:42.983Z"
      },
      {
        "duration": 3,
        "start_time": "2023-03-05T19:45:43.329Z"
      },
      {
        "duration": 4708,
        "start_time": "2023-03-05T20:10:59.196Z"
      },
      {
        "duration": 3,
        "start_time": "2023-03-05T20:11:03.906Z"
      },
      {
        "duration": 2451,
        "start_time": "2023-03-05T20:11:03.911Z"
      },
      {
        "duration": 9,
        "start_time": "2023-03-05T20:11:06.367Z"
      },
      {
        "duration": 64,
        "start_time": "2023-03-05T20:11:06.378Z"
      },
      {
        "duration": 28,
        "start_time": "2023-03-05T20:11:06.453Z"
      },
      {
        "duration": 13,
        "start_time": "2023-03-05T20:11:06.484Z"
      },
      {
        "duration": 39,
        "start_time": "2023-03-05T20:11:06.500Z"
      },
      {
        "duration": 271,
        "start_time": "2023-03-05T20:11:06.541Z"
      },
      {
        "duration": 40,
        "start_time": "2023-03-05T20:11:06.813Z"
      },
      {
        "duration": 337,
        "start_time": "2023-03-05T20:11:06.855Z"
      },
      {
        "duration": 3,
        "start_time": "2023-03-05T20:11:07.194Z"
      },
      {
        "duration": 949,
        "start_time": "2023-03-05T20:11:07.199Z"
      },
      {
        "duration": 0,
        "start_time": "2023-03-05T20:11:08.151Z"
      },
      {
        "duration": 0,
        "start_time": "2023-03-05T20:11:08.153Z"
      },
      {
        "duration": 0,
        "start_time": "2023-03-05T20:11:08.155Z"
      },
      {
        "duration": 0,
        "start_time": "2023-03-05T20:11:08.156Z"
      },
      {
        "duration": 0,
        "start_time": "2023-03-05T20:11:08.157Z"
      },
      {
        "duration": 0,
        "start_time": "2023-03-05T20:11:08.159Z"
      },
      {
        "duration": 0,
        "start_time": "2023-03-05T20:11:08.160Z"
      },
      {
        "duration": 0,
        "start_time": "2023-03-05T20:11:08.162Z"
      },
      {
        "duration": 0,
        "start_time": "2023-03-05T20:11:08.163Z"
      },
      {
        "duration": 0,
        "start_time": "2023-03-05T20:11:08.164Z"
      },
      {
        "duration": 0,
        "start_time": "2023-03-05T20:11:08.165Z"
      },
      {
        "duration": 4864,
        "start_time": "2023-03-05T20:11:42.758Z"
      },
      {
        "duration": 4,
        "start_time": "2023-03-05T20:11:47.624Z"
      },
      {
        "duration": 2011,
        "start_time": "2023-03-05T20:11:47.630Z"
      },
      {
        "duration": 15,
        "start_time": "2023-03-05T20:11:49.644Z"
      },
      {
        "duration": 41,
        "start_time": "2023-03-05T20:11:49.661Z"
      },
      {
        "duration": 12,
        "start_time": "2023-03-05T20:11:49.704Z"
      },
      {
        "duration": 26,
        "start_time": "2023-03-05T20:11:49.717Z"
      },
      {
        "duration": 37,
        "start_time": "2023-03-05T20:11:49.745Z"
      },
      {
        "duration": 281,
        "start_time": "2023-03-05T20:11:49.786Z"
      },
      {
        "duration": 30,
        "start_time": "2023-03-05T20:11:50.069Z"
      },
      {
        "duration": 347,
        "start_time": "2023-03-05T20:11:50.101Z"
      },
      {
        "duration": 3,
        "start_time": "2023-03-05T20:11:50.452Z"
      },
      {
        "duration": 3008766,
        "start_time": "2023-03-05T20:11:50.458Z"
      },
      {
        "duration": 11,
        "start_time": "2023-03-05T21:01:59.227Z"
      },
      {
        "duration": 6,
        "start_time": "2023-03-05T21:01:59.240Z"
      },
      {
        "duration": 33,
        "start_time": "2023-03-05T21:01:59.248Z"
      },
      {
        "duration": 3,
        "start_time": "2023-03-05T21:01:59.284Z"
      },
      {
        "duration": 6928,
        "start_time": "2023-03-05T21:01:59.289Z"
      },
      {
        "duration": 4,
        "start_time": "2023-03-05T21:02:06.219Z"
      },
      {
        "duration": 3,
        "start_time": "2023-03-05T21:02:06.237Z"
      },
      {
        "duration": 24,
        "start_time": "2023-03-05T21:02:06.250Z"
      },
      {
        "duration": 8,
        "start_time": "2023-03-05T21:02:06.292Z"
      },
      {
        "duration": 1095880,
        "start_time": "2023-03-05T21:02:06.302Z"
      },
      {
        "duration": 2924672,
        "start_time": "2023-03-05T21:20:22.184Z"
      },
      {
        "duration": 384,
        "start_time": "2023-03-05T22:16:16.776Z"
      },
      {
        "duration": 217805,
        "start_time": "2023-03-05T22:17:43.406Z"
      },
      {
        "duration": 3,
        "start_time": "2023-03-05T22:21:21.213Z"
      },
      {
        "duration": 2,
        "start_time": "2023-03-05T23:38:34.722Z"
      },
      {
        "duration": 11,
        "start_time": "2023-03-05T23:38:34.726Z"
      },
      {
        "duration": 1060439,
        "start_time": "2023-03-05T23:38:34.739Z"
      },
      {
        "duration": 413,
        "start_time": "2023-03-05T23:56:15.180Z"
      },
      {
        "duration": 71,
        "start_time": "2023-03-06T20:22:34.813Z"
      },
      {
        "duration": 18693,
        "start_time": "2023-03-06T20:27:02.316Z"
      },
      {
        "duration": 2,
        "start_time": "2023-03-06T20:27:21.011Z"
      },
      {
        "duration": 2428,
        "start_time": "2023-03-06T20:27:21.015Z"
      },
      {
        "duration": 19,
        "start_time": "2023-03-06T20:27:23.445Z"
      },
      {
        "duration": 46,
        "start_time": "2023-03-06T20:27:23.468Z"
      },
      {
        "duration": 12,
        "start_time": "2023-03-06T20:27:23.516Z"
      },
      {
        "duration": 7,
        "start_time": "2023-03-06T20:27:23.529Z"
      },
      {
        "duration": 34,
        "start_time": "2023-03-06T20:27:23.546Z"
      },
      {
        "duration": 270,
        "start_time": "2023-03-06T20:27:23.582Z"
      },
      {
        "duration": 42,
        "start_time": "2023-03-06T20:27:23.855Z"
      },
      {
        "duration": 352,
        "start_time": "2023-03-06T20:27:23.898Z"
      },
      {
        "duration": 4,
        "start_time": "2023-03-06T20:27:24.252Z"
      },
      {
        "duration": 12,
        "start_time": "2023-03-06T20:27:24.258Z"
      },
      {
        "duration": 12,
        "start_time": "2023-03-06T20:27:24.273Z"
      },
      {
        "duration": 2324,
        "start_time": "2023-03-06T20:27:24.287Z"
      },
      {
        "duration": 0,
        "start_time": "2023-03-06T20:27:26.614Z"
      },
      {
        "duration": 0,
        "start_time": "2023-03-06T20:27:26.615Z"
      },
      {
        "duration": 0,
        "start_time": "2023-03-06T20:27:26.616Z"
      },
      {
        "duration": 0,
        "start_time": "2023-03-06T20:27:26.618Z"
      },
      {
        "duration": 0,
        "start_time": "2023-03-06T20:27:26.619Z"
      },
      {
        "duration": 0,
        "start_time": "2023-03-06T20:27:26.620Z"
      },
      {
        "duration": 0,
        "start_time": "2023-03-06T20:27:26.621Z"
      },
      {
        "duration": 0,
        "start_time": "2023-03-06T20:27:26.623Z"
      },
      {
        "duration": 3,
        "start_time": "2023-03-06T20:30:19.807Z"
      },
      {
        "duration": 33,
        "start_time": "2023-03-06T20:30:21.476Z"
      },
      {
        "duration": 2,
        "start_time": "2023-03-06T20:30:22.675Z"
      },
      {
        "duration": 9281,
        "start_time": "2023-03-06T20:30:23.412Z"
      },
      {
        "duration": 273916,
        "start_time": "2023-03-06T20:30:32.695Z"
      },
      {
        "duration": 2,
        "start_time": "2023-03-06T20:35:06.613Z"
      },
      {
        "duration": 4954,
        "start_time": "2023-03-06T20:39:45.181Z"
      },
      {
        "duration": 14,
        "start_time": "2023-03-06T20:39:50.141Z"
      },
      {
        "duration": 3319,
        "start_time": "2023-03-06T20:39:50.161Z"
      },
      {
        "duration": 10,
        "start_time": "2023-03-06T20:39:53.481Z"
      },
      {
        "duration": 45,
        "start_time": "2023-03-06T20:39:53.493Z"
      },
      {
        "duration": 27,
        "start_time": "2023-03-06T20:39:53.540Z"
      },
      {
        "duration": 35,
        "start_time": "2023-03-06T20:39:53.570Z"
      },
      {
        "duration": 30,
        "start_time": "2023-03-06T20:39:53.606Z"
      },
      {
        "duration": 321,
        "start_time": "2023-03-06T20:39:53.638Z"
      },
      {
        "duration": 37,
        "start_time": "2023-03-06T20:39:53.964Z"
      },
      {
        "duration": 365,
        "start_time": "2023-03-06T20:39:54.002Z"
      },
      {
        "duration": 2,
        "start_time": "2023-03-06T20:39:54.369Z"
      },
      {
        "duration": 19,
        "start_time": "2023-03-06T20:39:54.373Z"
      },
      {
        "duration": 26,
        "start_time": "2023-03-06T20:39:54.396Z"
      },
      {
        "duration": 11,
        "start_time": "2023-03-06T20:39:54.423Z"
      },
      {
        "duration": 62,
        "start_time": "2023-03-06T20:39:54.436Z"
      },
      {
        "duration": 3,
        "start_time": "2023-03-06T20:39:54.499Z"
      },
      {
        "duration": 10184,
        "start_time": "2023-03-06T20:39:54.510Z"
      },
      {
        "duration": 273544,
        "start_time": "2023-03-06T20:40:04.700Z"
      },
      {
        "duration": 8,
        "start_time": "2023-03-06T20:44:38.251Z"
      },
      {
        "duration": 13,
        "start_time": "2023-03-06T20:44:38.263Z"
      },
      {
        "duration": 1353221,
        "start_time": "2023-03-06T20:44:38.278Z"
      },
      {
        "duration": 2,
        "start_time": "2023-03-06T21:07:11.501Z"
      },
      {
        "duration": 20742,
        "start_time": "2023-03-06T21:08:42.458Z"
      },
      {
        "duration": 3,
        "start_time": "2023-03-06T21:09:03.202Z"
      },
      {
        "duration": 3120,
        "start_time": "2023-03-06T21:09:03.207Z"
      },
      {
        "duration": 25,
        "start_time": "2023-03-06T21:09:06.329Z"
      },
      {
        "duration": 47,
        "start_time": "2023-03-06T21:09:06.368Z"
      },
      {
        "duration": 9,
        "start_time": "2023-03-06T21:09:06.417Z"
      },
      {
        "duration": 22,
        "start_time": "2023-03-06T21:09:06.427Z"
      },
      {
        "duration": 24,
        "start_time": "2023-03-06T21:09:06.451Z"
      },
      {
        "duration": 281,
        "start_time": "2023-03-06T21:09:06.477Z"
      },
      {
        "duration": 38,
        "start_time": "2023-03-06T21:09:06.762Z"
      },
      {
        "duration": 413,
        "start_time": "2023-03-06T21:09:06.802Z"
      },
      {
        "duration": 4,
        "start_time": "2023-03-06T21:09:07.217Z"
      },
      {
        "duration": 1492,
        "start_time": "2023-03-06T21:09:07.223Z"
      },
      {
        "duration": 0,
        "start_time": "2023-03-06T21:09:08.717Z"
      },
      {
        "duration": 0,
        "start_time": "2023-03-06T21:09:08.719Z"
      },
      {
        "duration": 0,
        "start_time": "2023-03-06T21:09:08.720Z"
      },
      {
        "duration": 0,
        "start_time": "2023-03-06T21:09:08.722Z"
      },
      {
        "duration": 0,
        "start_time": "2023-03-06T21:09:08.723Z"
      },
      {
        "duration": 0,
        "start_time": "2023-03-06T21:09:08.724Z"
      },
      {
        "duration": 0,
        "start_time": "2023-03-06T21:09:08.725Z"
      },
      {
        "duration": 0,
        "start_time": "2023-03-06T21:09:08.726Z"
      },
      {
        "duration": 0,
        "start_time": "2023-03-06T21:09:08.748Z"
      },
      {
        "duration": 4659,
        "start_time": "2023-03-06T21:14:02.419Z"
      },
      {
        "duration": 4,
        "start_time": "2023-03-06T21:14:07.081Z"
      },
      {
        "duration": 2675,
        "start_time": "2023-03-06T21:14:07.087Z"
      },
      {
        "duration": 12,
        "start_time": "2023-03-06T21:14:09.765Z"
      },
      {
        "duration": 44,
        "start_time": "2023-03-06T21:14:09.779Z"
      },
      {
        "duration": 27,
        "start_time": "2023-03-06T21:14:09.826Z"
      },
      {
        "duration": 38,
        "start_time": "2023-03-06T21:14:09.854Z"
      },
      {
        "duration": 31,
        "start_time": "2023-03-06T21:14:09.894Z"
      },
      {
        "duration": 317,
        "start_time": "2023-03-06T21:14:09.927Z"
      },
      {
        "duration": 32,
        "start_time": "2023-03-06T21:14:10.253Z"
      },
      {
        "duration": 342,
        "start_time": "2023-03-06T21:14:10.287Z"
      },
      {
        "duration": 3,
        "start_time": "2023-03-06T21:14:10.631Z"
      },
      {
        "duration": 1080,
        "start_time": "2023-03-06T21:14:10.636Z"
      },
      {
        "duration": 0,
        "start_time": "2023-03-06T21:14:11.718Z"
      },
      {
        "duration": 0,
        "start_time": "2023-03-06T21:14:11.719Z"
      },
      {
        "duration": 0,
        "start_time": "2023-03-06T21:14:11.721Z"
      },
      {
        "duration": 0,
        "start_time": "2023-03-06T21:14:11.722Z"
      },
      {
        "duration": 0,
        "start_time": "2023-03-06T21:14:11.724Z"
      },
      {
        "duration": 0,
        "start_time": "2023-03-06T21:14:11.726Z"
      },
      {
        "duration": 0,
        "start_time": "2023-03-06T21:14:11.741Z"
      },
      {
        "duration": 0,
        "start_time": "2023-03-06T21:14:11.742Z"
      },
      {
        "duration": 0,
        "start_time": "2023-03-06T21:14:11.743Z"
      },
      {
        "duration": 4444,
        "start_time": "2023-03-06T21:21:01.123Z"
      },
      {
        "duration": 2,
        "start_time": "2023-03-06T21:21:05.573Z"
      },
      {
        "duration": 2816,
        "start_time": "2023-03-06T21:21:05.577Z"
      },
      {
        "duration": 9,
        "start_time": "2023-03-06T21:21:08.395Z"
      },
      {
        "duration": 67,
        "start_time": "2023-03-06T21:21:08.407Z"
      },
      {
        "duration": 93,
        "start_time": "2023-03-06T21:21:08.476Z"
      },
      {
        "duration": 60,
        "start_time": "2023-03-06T21:21:08.570Z"
      },
      {
        "duration": 47,
        "start_time": "2023-03-06T21:21:08.631Z"
      },
      {
        "duration": 243,
        "start_time": "2023-03-06T21:21:08.679Z"
      },
      {
        "duration": 35,
        "start_time": "2023-03-06T21:21:08.924Z"
      },
      {
        "duration": 383,
        "start_time": "2023-03-06T21:21:08.964Z"
      },
      {
        "duration": 9,
        "start_time": "2023-03-06T21:21:09.351Z"
      },
      {
        "duration": 3046760,
        "start_time": "2023-03-06T21:21:09.369Z"
      },
      {
        "duration": 18,
        "start_time": "2023-03-06T22:11:56.140Z"
      },
      {
        "duration": 4,
        "start_time": "2023-03-06T22:11:56.160Z"
      },
      {
        "duration": 39,
        "start_time": "2023-03-06T22:11:56.171Z"
      },
      {
        "duration": 3,
        "start_time": "2023-03-06T22:11:56.212Z"
      },
      {
        "duration": 7767,
        "start_time": "2023-03-06T22:11:56.216Z"
      },
      {
        "duration": 210471,
        "start_time": "2023-03-06T22:12:03.985Z"
      },
      {
        "duration": 62,
        "start_time": "2023-03-07T06:51:35.981Z"
      },
      {
        "duration": 4694,
        "start_time": "2023-03-07T06:51:46.239Z"
      },
      {
        "duration": 3,
        "start_time": "2023-03-07T06:51:50.935Z"
      },
      {
        "duration": 2655,
        "start_time": "2023-03-07T06:51:50.941Z"
      },
      {
        "duration": 9,
        "start_time": "2023-03-07T06:51:53.598Z"
      },
      {
        "duration": 52,
        "start_time": "2023-03-07T06:51:53.609Z"
      },
      {
        "duration": 10,
        "start_time": "2023-03-07T06:51:53.663Z"
      },
      {
        "duration": 8,
        "start_time": "2023-03-07T06:51:53.675Z"
      },
      {
        "duration": 57,
        "start_time": "2023-03-07T06:51:53.684Z"
      },
      {
        "duration": 249,
        "start_time": "2023-03-07T06:51:53.743Z"
      },
      {
        "duration": 31,
        "start_time": "2023-03-07T06:51:53.994Z"
      },
      {
        "duration": 335,
        "start_time": "2023-03-07T06:51:54.031Z"
      },
      {
        "duration": 3,
        "start_time": "2023-03-07T06:51:54.368Z"
      },
      {
        "duration": 3115269,
        "start_time": "2023-03-07T06:51:54.372Z"
      },
      {
        "duration": 10,
        "start_time": "2023-03-07T07:43:49.645Z"
      },
      {
        "duration": 3,
        "start_time": "2023-03-07T07:43:49.657Z"
      },
      {
        "duration": 34,
        "start_time": "2023-03-07T07:43:49.662Z"
      },
      {
        "duration": 3,
        "start_time": "2023-03-07T07:43:49.698Z"
      },
      {
        "duration": 8421,
        "start_time": "2023-03-07T07:43:49.703Z"
      },
      {
        "duration": 3,
        "start_time": "2023-03-07T07:43:58.126Z"
      },
      {
        "duration": 1216379,
        "start_time": "2023-03-07T08:51:36.862Z"
      },
      {
        "duration": 4,
        "start_time": "2023-03-07T09:11:53.245Z"
      },
      {
        "duration": 81,
        "start_time": "2023-03-07T13:33:09.812Z"
      },
      {
        "duration": 4764,
        "start_time": "2023-03-07T13:33:38.386Z"
      },
      {
        "duration": 4,
        "start_time": "2023-03-07T13:33:43.153Z"
      },
      {
        "duration": 2583,
        "start_time": "2023-03-07T13:33:43.159Z"
      },
      {
        "duration": 19,
        "start_time": "2023-03-07T13:33:45.744Z"
      },
      {
        "duration": 38,
        "start_time": "2023-03-07T13:33:45.766Z"
      },
      {
        "duration": 10,
        "start_time": "2023-03-07T13:33:45.805Z"
      },
      {
        "duration": 9,
        "start_time": "2023-03-07T13:33:45.817Z"
      },
      {
        "duration": 36,
        "start_time": "2023-03-07T13:33:45.855Z"
      },
      {
        "duration": 267,
        "start_time": "2023-03-07T13:33:45.894Z"
      },
      {
        "duration": 33,
        "start_time": "2023-03-07T13:33:46.166Z"
      },
      {
        "duration": 324,
        "start_time": "2023-03-07T13:33:46.201Z"
      },
      {
        "duration": 3,
        "start_time": "2023-03-07T13:33:46.527Z"
      },
      {
        "duration": 3096718,
        "start_time": "2023-03-07T13:33:46.531Z"
      },
      {
        "duration": 13,
        "start_time": "2023-03-07T14:25:23.253Z"
      },
      {
        "duration": 4,
        "start_time": "2023-03-07T14:25:23.269Z"
      },
      {
        "duration": 75,
        "start_time": "2023-03-07T14:25:23.276Z"
      },
      {
        "duration": 8,
        "start_time": "2023-03-07T14:25:23.352Z"
      },
      {
        "duration": 7609,
        "start_time": "2023-03-07T14:25:23.361Z"
      },
      {
        "duration": 3,
        "start_time": "2023-03-07T14:25:30.972Z"
      },
      {
        "duration": 3207989,
        "start_time": "2023-03-07T14:25:30.977Z"
      },
      {
        "duration": 3,
        "start_time": "2023-03-07T15:18:58.968Z"
      },
      {
        "duration": 356,
        "start_time": "2023-03-07T15:18:58.983Z"
      },
      {
        "duration": 45,
        "start_time": "2023-03-07T17:57:58.704Z"
      },
      {
        "duration": 16186,
        "start_time": "2023-03-07T17:58:26.186Z"
      },
      {
        "duration": 3,
        "start_time": "2023-03-07T17:58:42.374Z"
      },
      {
        "duration": 2768,
        "start_time": "2023-03-07T17:58:42.378Z"
      },
      {
        "duration": 8,
        "start_time": "2023-03-07T17:58:45.148Z"
      },
      {
        "duration": 42,
        "start_time": "2023-03-07T17:58:45.157Z"
      },
      {
        "duration": 55,
        "start_time": "2023-03-07T17:58:45.201Z"
      },
      {
        "duration": 8,
        "start_time": "2023-03-07T17:58:45.257Z"
      },
      {
        "duration": 34,
        "start_time": "2023-03-07T17:58:45.266Z"
      },
      {
        "duration": 260,
        "start_time": "2023-03-07T17:58:45.302Z"
      },
      {
        "duration": 26,
        "start_time": "2023-03-07T17:58:45.565Z"
      },
      {
        "duration": 297,
        "start_time": "2023-03-07T17:58:45.593Z"
      },
      {
        "duration": 3,
        "start_time": "2023-03-07T17:58:45.891Z"
      },
      {
        "duration": 2745864,
        "start_time": "2023-03-07T17:58:45.896Z"
      },
      {
        "duration": 9,
        "start_time": "2023-03-07T18:44:31.762Z"
      },
      {
        "duration": 62,
        "start_time": "2023-03-07T18:44:31.773Z"
      },
      {
        "duration": 150,
        "start_time": "2023-03-07T18:44:31.837Z"
      },
      {
        "duration": 72,
        "start_time": "2023-03-07T18:44:31.988Z"
      },
      {
        "duration": 7339,
        "start_time": "2023-03-07T18:44:32.062Z"
      },
      {
        "duration": 218720,
        "start_time": "2023-03-07T18:44:39.403Z"
      },
      {
        "duration": 2,
        "start_time": "2023-03-07T18:48:18.125Z"
      },
      {
        "duration": 4,
        "start_time": "2023-03-07T18:48:18.129Z"
      },
      {
        "duration": 30,
        "start_time": "2023-03-07T18:48:18.143Z"
      }
    ],
    "kernelspec": {
      "display_name": "Python 3 (ipykernel)",
      "language": "python",
      "name": "python3"
    },
    "language_info": {
      "codemirror_mode": {
        "name": "ipython",
        "version": 3
      },
      "file_extension": ".py",
      "mimetype": "text/x-python",
      "name": "python",
      "nbconvert_exporter": "python",
      "pygments_lexer": "ipython3",
      "version": "3.9.5"
    },
    "toc": {
      "base_numbering": 1,
      "nav_menu": {},
      "number_sections": true,
      "sideBar": true,
      "skip_h1_title": true,
      "title_cell": "Содержание",
      "title_sidebar": "Contents",
      "toc_cell": true,
      "toc_position": {
        "height": "calc(100% - 180px)",
        "left": "10px",
        "top": "150px",
        "width": "302.391px"
      },
      "toc_section_display": true,
      "toc_window_display": false
    },
    "colab": {
      "provenance": []
    }
  },
  "nbformat": 4,
  "nbformat_minor": 0
}